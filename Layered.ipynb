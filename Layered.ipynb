{
 "cells": [
  {
   "cell_type": "markdown",
   "metadata": {},
   "source": [
    "# Working with multiple layers of tiff data"
   ]
  },
  {
   "cell_type": "code",
   "execution_count": 6,
   "metadata": {},
   "outputs": [],
   "source": [
    "import os\n",
    "import numpy as np\n",
    "import matplotlib.pyplot as plt\n",
    "import rasterio as rio\n",
    "import earthpy as et\n",
    "import earthpy.plot as ep\n",
    "\n",
    "# Import data from EarthPy\n",
    "#data = et.data.get_data('colorado-flood')\n",
    "# Set working directory\n",
    "os.chdir(os.path.join(et.io.HOME, r'C:\\Users\\emack\\Documents\\UAF-Temperature'))\n"
   ]
  },
  {
   "cell_type": "markdown",
   "metadata": {},
   "source": [
    "# Open both DTM files we want to work with"
   ]
  },
  {
   "cell_type": "code",
   "execution_count": null,
   "metadata": {},
   "outputs": [],
   "source": [
    "# Open altitude raster DTM data\n",
    "with rio.open(r\"C:\\Users\\emack\\Documents\\UAF-Temperature\\data\\alt.tif\") as alt_dem:\n",
    "    alt_dem_im = alt_dem.read(1, masked=True)\n",
    "\n",
    "# Open dem hillshade\n",
    "with rio.open(r\"C:\\Users\\emack\\Documents\\UAF-Temperature\\data\\amphibians.tif\") as amphib_dem:\n",
    "    amphib_dem = amphib_dem.read(1, masked=True)\n"
   ]
  },
  {
   "cell_type": "code",
   "execution_count": null,
   "metadata": {},
   "outputs": [],
   "source": []
  }
 ],
 "metadata": {
  "kernelspec": {
   "display_name": "Python 3",
   "language": "python",
   "name": "python3"
  },
  "language_info": {
   "codemirror_mode": {
    "name": "ipython",
    "version": 3
   },
   "file_extension": ".py",
   "mimetype": "text/x-python",
   "name": "python",
   "nbconvert_exporter": "python",
   "pygments_lexer": "ipython3",
   "version": "3.7.3"
  }
 },
 "nbformat": 4,
 "nbformat_minor": 4
}
